{
 "cells": [
  {
   "cell_type": "code",
   "execution_count": 1,
   "id": "f196dacd-10a0-4cdd-835e-23c02f3ffa47",
   "metadata": {},
   "outputs": [],
   "source": [
    "# General Imports\n",
    "import tensorflow as tf\n",
    "import pandas as pd\n",
    "import numpy as np\n",
    "import random\n",
    "import os\n",
    "\n",
    "import matplotlib.pyplot as plt\n",
    "import seaborn as sns\n",
    "\n",
    "from keras.utils import plot_model\n",
    "from tensorflow.keras import models\n",
    "from tensorflow.keras.layers import BatchNormalization\n",
    "from tensorflow.keras.layers import MaxPooling2D\n",
    "from tensorflow.keras.layers import Conv2D\n",
    "from tensorflow.keras.layers import Dense\n",
    "from tensorflow.keras.layers import Dropout\n",
    "from tensorflow.keras.layers import Flatten\n",
    "from tensorflow.keras.optimizers import legacy\n",
    "\n",
    "from tensorflow.keras.callbacks import EarlyStopping\n",
    "from tensorflow.keras.callbacks import ReduceLROnPlateau\n",
    "from tensorflow.keras.callbacks import ModelCheckpoint\n",
    "\n",
    "from tensorflow.keras.preprocessing.image import ImageDataGenerator\n",
    "from tensorflow.keras.preprocessing.image import img_to_array\n",
    "from tensorflow.keras.preprocessing.image import array_to_img\n",
    "from tensorflow.keras.preprocessing.image import load_img"
   ]
  },
  {
   "cell_type": "code",
   "execution_count": 2,
   "id": "fb751c44-d563-4dbe-a1ce-aba1c1e32e7e",
   "metadata": {},
   "outputs": [],
   "source": [
    "import numpy as np \n",
    "from tqdm import tqdm\n",
    "import cv2\n",
    "import os\n",
    "import imutils\n",
    "\n",
    "\n",
    "\n",
    "def crop_img(img):\n",
    "\n",
    "\tgray = cv2.cvtColor(img, cv2.COLOR_RGB2GRAY)\n",
    "\tgray = cv2.GaussianBlur(gray, (3, 3), 0)\n",
    "\n",
    "\tthresh = cv2.threshold(gray, 45, 255, cv2.THRESH_BINARY)[1]\n",
    "\tthresh = cv2.erode(thresh, None, iterations=2)\n",
    "\tthresh = cv2.dilate(thresh, None, iterations=2)\n",
    "\tcnts = cv2.findContours(thresh.copy(), cv2.RETR_EXTERNAL, cv2.CHAIN_APPROX_SIMPLE)\n",
    "\tcnts = imutils.grab_contours(cnts)\n",
    "\tc = max(cnts, key=cv2.contourArea)\n",
    "\n",
    "\textLeft = tuple(c[c[:, :, 0].argmin()][0])\n",
    "\textRight = tuple(c[c[:, :, 0].argmax()][0])\n",
    "\textTop = tuple(c[c[:, :, 1].argmin()][0])\n",
    "\textBot = tuple(c[c[:, :, 1].argmax()][0])\n",
    "\tADD_PIXELS = 0\n",
    "\tnew_img = img[extTop[1]-ADD_PIXELS:extBot[1]+ADD_PIXELS, extLeft[0]-ADD_PIXELS:extRight[0]+ADD_PIXELS].copy()\n",
    "\t\n",
    "\treturn new_img\n",
    "\t\n",
    "if __name__ == \"__main__\":\n",
    "\ttraining = \"Training/\"\n",
    "\ttesting = \"Testing/\"\n",
    "\ttraining_dir = os.listdir(training)\n",
    "\ttesting_dir = os.listdir(testing)\n",
    "\tIMG_SIZE = 256\n",
    "\n",
    "\tfor dir in training_dir:\n",
    "\t\tsave_path = 'cleaned/Training/'+ dir\n",
    "\t\tpath = os.path.join(training,dir)\n",
    "\t\timage_dir = os.listdir(path)\n",
    "\t\tfor img in image_dir:\n",
    "\t\t\timage = cv2.imread(os.path.join(path,img))\n",
    "\t\t\tnew_img = crop_img(image)\n",
    "\t\t\tnew_img = cv2.resize(new_img,(IMG_SIZE,IMG_SIZE))\n",
    "\t\t\tif not os.path.exists(save_path):\n",
    "\t\t\t\tos.makedirs(save_path)\n",
    "\t\t\tcv2.imwrite(save_path+'/'+img, new_img)\n",
    "\t\n",
    "\tfor dir in testing_dir:\n",
    "\t\tsave_path = 'cleaned/Testing/'+ dir\n",
    "\t\tpath = os.path.join(testing,dir)\n",
    "\t\timage_dir = os.listdir(path)\n",
    "\t\tfor img in image_dir:\n",
    "\t\t\timage = cv2.imread(os.path.join(path,img))\n",
    "\t\t\tnew_img = crop_img(image)\n",
    "\t\t\tnew_img = cv2.resize(new_img,(IMG_SIZE,IMG_SIZE))\n",
    "\t\t\tif not os.path.exists(save_path):\n",
    "\t\t\t\tos.makedirs(save_path)\n",
    "\t\t\tcv2.imwrite(save_path+'/'+img, new_img)"
   ]
  },
  {
   "cell_type": "code",
   "execution_count": 3,
   "id": "57492340-8a87-41d8-9487-883d7f15c900",
   "metadata": {},
   "outputs": [],
   "source": [
    "SAVE = False\n",
    "SEED = 111\n",
    "\n",
    "tf.keras.utils.set_random_seed(SEED)\n",
    "tf.random.set_seed(SEED)\n",
    "np.random.seed(SEED)\n",
    "\n",
    "%config InlineBackend.figure_format = 'retina'\n",
    "plt.rcParams[\"figure.figsize\"] = (16, 10)\n",
    "plt.rcParams.update({'font.size': 14})\n",
    "\n",
    "CLASS_TYPES = ['pituitary', 'notumor', 'meningioma', 'glioma']\n",
    "N_TYPES = len(CLASS_TYPES)"
   ]
  },
  {
   "cell_type": "code",
   "execution_count": 4,
   "id": "1a55375a-66f2-439f-9a09-d8eb18be39a4",
   "metadata": {},
   "outputs": [],
   "source": [
    "import os\n",
    "\n",
    "def get_data_labels(directory):\n",
    "    data_paths = []\n",
    "    data_labels = []\n",
    "    \n",
    "    for label in os.listdir(directory):\n",
    "        label_dir = os.path.join(directory, label)\n",
    "        if os.path.isdir(label_dir):\n",
    "            for image_name in os.listdir(label_dir):\n",
    "                image_path = os.path.join(label_dir, image_name)\n",
    "                data_paths.append(image_path)\n",
    "                data_labels.append(label)\n",
    "    \n",
    "    return data_paths, data_labels\n"
   ]
  },
  {
   "cell_type": "code",
   "execution_count": 5,
   "id": "c20bc6f2-7356-4553-a521-ef63dc44e33d",
   "metadata": {},
   "outputs": [
    {
     "name": "stdout",
     "output_type": "stream",
     "text": [
      "Training\n",
      "Number of Paths: 5712\n",
      "Number of Labels: 5712\n",
      "\n",
      "Testing\n",
      "Number of Paths: 1311\n",
      "Number of Labels: 1311\n"
     ]
    }
   ],
   "source": [
    "USER_PATH = r\"./cleaned\"\n",
    "train_dir = USER_PATH + r'/Training/'\n",
    "test_dir = USER_PATH + r'/Testing/'\n",
    "\n",
    "train_paths, train_labels = get_data_labels(train_dir)\n",
    "test_paths, test_labels = get_data_labels(test_dir)\n",
    "\n",
    "print('Training')\n",
    "print(f'Number of Paths: {len(train_paths)}')\n",
    "print(f'Number of Labels: {len(train_labels)}')\n",
    "print('\\nTesting')\n",
    "print(f'Number of Paths: {len(test_paths)}')\n",
    "print(f'Number of Labels: {len(test_labels)}')"
   ]
  },
  {
   "cell_type": "code",
   "execution_count": 7,
   "id": "0aea9d25-fad9-4172-ac25-a292b396568f",
   "metadata": {},
   "outputs": [],
   "source": [
    "import matplotlib.pyplot as plt\n",
    "import numpy as np\n",
    "from collections import Counter\n",
    "\n",
    "def show_images(image_paths, labels, im_size=350, figsize=(13, 10), index_list=None):\n",
    "    if index_list is None:\n",
    "        index_list = list(range(12))\n",
    "\n",
    "    fig, axes = plt.subplots(3, 4, figsize=figsize)\n",
    "    axes = axes.flatten() \n",
    "    top_view_indices = index_list[:4]     \n",
    "    side_view_indices = index_list[4:8]     \n",
    "    back_view_indices = index_list[8:12]    \n",
    "\n",
    "    views = [top_view_indices, side_view_indices, back_view_indices]\n",
    "    view_labels = ['Top View', 'Side View', 'Back View']\n",
    "\n",
    "    for row, view_indices in enumerate(views):\n",
    "        for i, idx in enumerate(view_indices):\n",
    "            img = cv2.imread(image_paths[idx])\n",
    "            img = cv2.resize(img, (im_size, im_size))\n",
    "            axes[row * 4 + i].imshow(cv2.cvtColor(img, cv2.COLOR_BGR2RGB))\n",
    "            axes[row * 4 + i].axis('off') \n",
    "            label = labels[idx]\n",
    "            freq = Counter(labels)[label] \n",
    "            axes[row * 4 + i].set_title(f\"{label} (Count: {freq})\", fontsize=10)\n",
    "\n",
    "    plt.tight_layout()\n",
    "    plt.suptitle(\"Image Views with Labels and Frequencies\", fontsize=16, y=1.02)\n",
    "    plt.show()\n",
    "\n"
   ]
  },
  {
   "cell_type": "code",
   "execution_count": 9,
   "id": "35c56ec2-84b5-490d-b0e3-274cd18bca4b",
   "metadata": {},
   "outputs": [],
   "source": [
    "image_size = (150, 150)\n",
    "batch_size = 32"
   ]
  },
  {
   "cell_type": "code",
   "execution_count": 10,
   "id": "9d2a04f9-9f6a-4cdf-9661-44f73c342397",
   "metadata": {},
   "outputs": [
    {
     "name": "stdout",
     "output_type": "stream",
     "text": [
      "Found 5712 images belonging to 4 classes.\n",
      "Found 1311 images belonging to 4 classes.\n"
     ]
    }
   ],
   "source": [
    "train_datagen = ImageDataGenerator(rescale=1./255,\n",
    "                                   rotation_range=10,\n",
    "                                   brightness_range=(0.85, 1.15),\n",
    "                                   width_shift_range=0.002,\n",
    "                                   height_shift_range=0.002,\n",
    "                                   shear_range=12.5,\n",
    "                                   zoom_range=0,\n",
    "                                   horizontal_flip=True,\n",
    "                                   vertical_flip=False,\n",
    "                                   fill_mode=\"nearest\")\n",
    "train_generator = train_datagen.flow_from_directory(train_dir,\n",
    "                                                    target_size=image_size,\n",
    "                                                    batch_size=batch_size,\n",
    "                                                    class_mode=\"categorical\",\n",
    "                                                    seed=SEED)\n",
    "test_datagen = ImageDataGenerator(rescale=1./255)\n",
    "test_generator = test_datagen.flow_from_directory(test_dir,\n",
    "                                                  target_size=image_size,\n",
    "                                                  batch_size=batch_size,\n",
    "                                                  class_mode=\"categorical\",\n",
    "                                                  shuffle=False,\n",
    "                                                  seed=SEED)"
   ]
  },
  {
   "cell_type": "code",
   "execution_count": 11,
   "id": "f321fb9b-b426-45a3-82f7-b123eff05995",
   "metadata": {},
   "outputs": [
    {
     "name": "stdout",
     "output_type": "stream",
     "text": [
      "Categorical types for the training data:\n",
      "{'glioma': 0, 'meningioma': 1, 'notumor': 2, 'pituitary': 3}\n"
     ]
    }
   ],
   "source": [
    "class_indices_train = train_generator.class_indices\n",
    "class_indices_train_list = list(train_generator.class_indices.keys())\n",
    "\n",
    "print(\"Categorical types for the training data:\")\n",
    "print(class_indices_train)"
   ]
  },
  {
   "cell_type": "code",
   "execution_count": 12,
   "id": "22b7a318-92e5-451e-9fde-5a1c110657ff",
   "metadata": {},
   "outputs": [
    {
     "name": "stdout",
     "output_type": "stream",
     "text": [
      "Image shape: (150, 150, 3)\n",
      "Epochs: 40\n",
      "Batch size: 32\n",
      "Steps Per Epoch: 178\n",
      "Validation steps: 40\n"
     ]
    }
   ],
   "source": [
    "image_shape = (image_size[0], image_size[1], 3)\n",
    "epochs = 40\n",
    "steps_per_epoch = train_generator.samples // batch_size\n",
    "validation_steps = test_generator.samples // batch_size\n",
    "\n",
    "print(f'Image shape: {image_shape}')\n",
    "print(f'Epochs: {epochs}')\n",
    "print(f'Batch size: {batch_size}')\n",
    "print(f'Steps Per Epoch: {steps_per_epoch}')\n",
    "print(f'Validation steps: {validation_steps}')"
   ]
  },
  {
   "cell_type": "code",
   "execution_count": 13,
   "id": "60fd0f7a-7d69-4321-9f8e-4833e580d7da",
   "metadata": {},
   "outputs": [
    {
     "name": "stderr",
     "output_type": "stream",
     "text": [
      "C:\\Users\\kusha\\anaconda3\\Lib\\site-packages\\keras\\src\\layers\\convolutional\\base_conv.py:107: UserWarning: Do not pass an `input_shape`/`input_dim` argument to a layer. When using Sequential models, prefer using an `Input(shape)` object as the first layer in the model instead.\n",
      "  super().__init__(activity_regularizer=activity_regularizer, **kwargs)\n"
     ]
    },
    {
     "data": {
      "text/html": [
       "<pre style=\"white-space:pre;overflow-x:auto;line-height:normal;font-family:Menlo,'DejaVu Sans Mono',consolas,'Courier New',monospace\"><span style=\"font-weight: bold\">Model: \"sequential\"</span>\n",
       "</pre>\n"
      ],
      "text/plain": [
       "\u001b[1mModel: \"sequential\"\u001b[0m\n"
      ]
     },
     "metadata": {},
     "output_type": "display_data"
    },
    {
     "data": {
      "text/html": [
       "<pre style=\"white-space:pre;overflow-x:auto;line-height:normal;font-family:Menlo,'DejaVu Sans Mono',consolas,'Courier New',monospace\">┏━━━━━━━━━━━━━━━━━━━━━━━━━━━━━━━━━━━━━━┳━━━━━━━━━━━━━━━━━━━━━━━━━━━━━┳━━━━━━━━━━━━━━━━━┓\n",
       "┃<span style=\"font-weight: bold\"> Layer (type)                         </span>┃<span style=\"font-weight: bold\"> Output Shape                </span>┃<span style=\"font-weight: bold\">         Param # </span>┃\n",
       "┡━━━━━━━━━━━━━━━━━━━━━━━━━━━━━━━━━━━━━━╇━━━━━━━━━━━━━━━━━━━━━━━━━━━━━╇━━━━━━━━━━━━━━━━━┩\n",
       "│ conv2d (<span style=\"color: #0087ff; text-decoration-color: #0087ff\">Conv2D</span>)                      │ (<span style=\"color: #00d7ff; text-decoration-color: #00d7ff\">None</span>, <span style=\"color: #00af00; text-decoration-color: #00af00\">147</span>, <span style=\"color: #00af00; text-decoration-color: #00af00\">147</span>, <span style=\"color: #00af00; text-decoration-color: #00af00\">32</span>)        │           <span style=\"color: #00af00; text-decoration-color: #00af00\">1,568</span> │\n",
       "├──────────────────────────────────────┼─────────────────────────────┼─────────────────┤\n",
       "│ max_pooling2d (<span style=\"color: #0087ff; text-decoration-color: #0087ff\">MaxPooling2D</span>)         │ (<span style=\"color: #00d7ff; text-decoration-color: #00d7ff\">None</span>, <span style=\"color: #00af00; text-decoration-color: #00af00\">49</span>, <span style=\"color: #00af00; text-decoration-color: #00af00\">49</span>, <span style=\"color: #00af00; text-decoration-color: #00af00\">32</span>)          │               <span style=\"color: #00af00; text-decoration-color: #00af00\">0</span> │\n",
       "├──────────────────────────────────────┼─────────────────────────────┼─────────────────┤\n",
       "│ conv2d_1 (<span style=\"color: #0087ff; text-decoration-color: #0087ff\">Conv2D</span>)                    │ (<span style=\"color: #00d7ff; text-decoration-color: #00d7ff\">None</span>, <span style=\"color: #00af00; text-decoration-color: #00af00\">46</span>, <span style=\"color: #00af00; text-decoration-color: #00af00\">46</span>, <span style=\"color: #00af00; text-decoration-color: #00af00\">64</span>)          │          <span style=\"color: #00af00; text-decoration-color: #00af00\">32,832</span> │\n",
       "├──────────────────────────────────────┼─────────────────────────────┼─────────────────┤\n",
       "│ max_pooling2d_1 (<span style=\"color: #0087ff; text-decoration-color: #0087ff\">MaxPooling2D</span>)       │ (<span style=\"color: #00d7ff; text-decoration-color: #00d7ff\">None</span>, <span style=\"color: #00af00; text-decoration-color: #00af00\">15</span>, <span style=\"color: #00af00; text-decoration-color: #00af00\">15</span>, <span style=\"color: #00af00; text-decoration-color: #00af00\">64</span>)          │               <span style=\"color: #00af00; text-decoration-color: #00af00\">0</span> │\n",
       "├──────────────────────────────────────┼─────────────────────────────┼─────────────────┤\n",
       "│ conv2d_2 (<span style=\"color: #0087ff; text-decoration-color: #0087ff\">Conv2D</span>)                    │ (<span style=\"color: #00d7ff; text-decoration-color: #00d7ff\">None</span>, <span style=\"color: #00af00; text-decoration-color: #00af00\">12</span>, <span style=\"color: #00af00; text-decoration-color: #00af00\">12</span>, <span style=\"color: #00af00; text-decoration-color: #00af00\">128</span>)         │         <span style=\"color: #00af00; text-decoration-color: #00af00\">131,200</span> │\n",
       "├──────────────────────────────────────┼─────────────────────────────┼─────────────────┤\n",
       "│ max_pooling2d_2 (<span style=\"color: #0087ff; text-decoration-color: #0087ff\">MaxPooling2D</span>)       │ (<span style=\"color: #00d7ff; text-decoration-color: #00d7ff\">None</span>, <span style=\"color: #00af00; text-decoration-color: #00af00\">4</span>, <span style=\"color: #00af00; text-decoration-color: #00af00\">4</span>, <span style=\"color: #00af00; text-decoration-color: #00af00\">128</span>)           │               <span style=\"color: #00af00; text-decoration-color: #00af00\">0</span> │\n",
       "├──────────────────────────────────────┼─────────────────────────────┼─────────────────┤\n",
       "│ conv2d_3 (<span style=\"color: #0087ff; text-decoration-color: #0087ff\">Conv2D</span>)                    │ (<span style=\"color: #00d7ff; text-decoration-color: #00d7ff\">None</span>, <span style=\"color: #00af00; text-decoration-color: #00af00\">1</span>, <span style=\"color: #00af00; text-decoration-color: #00af00\">1</span>, <span style=\"color: #00af00; text-decoration-color: #00af00\">128</span>)           │         <span style=\"color: #00af00; text-decoration-color: #00af00\">262,272</span> │\n",
       "├──────────────────────────────────────┼─────────────────────────────┼─────────────────┤\n",
       "│ flatten (<span style=\"color: #0087ff; text-decoration-color: #0087ff\">Flatten</span>)                    │ (<span style=\"color: #00d7ff; text-decoration-color: #00d7ff\">None</span>, <span style=\"color: #00af00; text-decoration-color: #00af00\">128</span>)                 │               <span style=\"color: #00af00; text-decoration-color: #00af00\">0</span> │\n",
       "├──────────────────────────────────────┼─────────────────────────────┼─────────────────┤\n",
       "│ dense (<span style=\"color: #0087ff; text-decoration-color: #0087ff\">Dense</span>)                        │ (<span style=\"color: #00d7ff; text-decoration-color: #00d7ff\">None</span>, <span style=\"color: #00af00; text-decoration-color: #00af00\">512</span>)                 │          <span style=\"color: #00af00; text-decoration-color: #00af00\">66,048</span> │\n",
       "├──────────────────────────────────────┼─────────────────────────────┼─────────────────┤\n",
       "│ dropout (<span style=\"color: #0087ff; text-decoration-color: #0087ff\">Dropout</span>)                    │ (<span style=\"color: #00d7ff; text-decoration-color: #00d7ff\">None</span>, <span style=\"color: #00af00; text-decoration-color: #00af00\">512</span>)                 │               <span style=\"color: #00af00; text-decoration-color: #00af00\">0</span> │\n",
       "├──────────────────────────────────────┼─────────────────────────────┼─────────────────┤\n",
       "│ dense_1 (<span style=\"color: #0087ff; text-decoration-color: #0087ff\">Dense</span>)                      │ (<span style=\"color: #00d7ff; text-decoration-color: #00d7ff\">None</span>, <span style=\"color: #00af00; text-decoration-color: #00af00\">4</span>)                   │           <span style=\"color: #00af00; text-decoration-color: #00af00\">2,052</span> │\n",
       "└──────────────────────────────────────┴─────────────────────────────┴─────────────────┘\n",
       "</pre>\n"
      ],
      "text/plain": [
       "┏━━━━━━━━━━━━━━━━━━━━━━━━━━━━━━━━━━━━━━┳━━━━━━━━━━━━━━━━━━━━━━━━━━━━━┳━━━━━━━━━━━━━━━━━┓\n",
       "┃\u001b[1m \u001b[0m\u001b[1mLayer (type)                        \u001b[0m\u001b[1m \u001b[0m┃\u001b[1m \u001b[0m\u001b[1mOutput Shape               \u001b[0m\u001b[1m \u001b[0m┃\u001b[1m \u001b[0m\u001b[1m        Param #\u001b[0m\u001b[1m \u001b[0m┃\n",
       "┡━━━━━━━━━━━━━━━━━━━━━━━━━━━━━━━━━━━━━━╇━━━━━━━━━━━━━━━━━━━━━━━━━━━━━╇━━━━━━━━━━━━━━━━━┩\n",
       "│ conv2d (\u001b[38;5;33mConv2D\u001b[0m)                      │ (\u001b[38;5;45mNone\u001b[0m, \u001b[38;5;34m147\u001b[0m, \u001b[38;5;34m147\u001b[0m, \u001b[38;5;34m32\u001b[0m)        │           \u001b[38;5;34m1,568\u001b[0m │\n",
       "├──────────────────────────────────────┼─────────────────────────────┼─────────────────┤\n",
       "│ max_pooling2d (\u001b[38;5;33mMaxPooling2D\u001b[0m)         │ (\u001b[38;5;45mNone\u001b[0m, \u001b[38;5;34m49\u001b[0m, \u001b[38;5;34m49\u001b[0m, \u001b[38;5;34m32\u001b[0m)          │               \u001b[38;5;34m0\u001b[0m │\n",
       "├──────────────────────────────────────┼─────────────────────────────┼─────────────────┤\n",
       "│ conv2d_1 (\u001b[38;5;33mConv2D\u001b[0m)                    │ (\u001b[38;5;45mNone\u001b[0m, \u001b[38;5;34m46\u001b[0m, \u001b[38;5;34m46\u001b[0m, \u001b[38;5;34m64\u001b[0m)          │          \u001b[38;5;34m32,832\u001b[0m │\n",
       "├──────────────────────────────────────┼─────────────────────────────┼─────────────────┤\n",
       "│ max_pooling2d_1 (\u001b[38;5;33mMaxPooling2D\u001b[0m)       │ (\u001b[38;5;45mNone\u001b[0m, \u001b[38;5;34m15\u001b[0m, \u001b[38;5;34m15\u001b[0m, \u001b[38;5;34m64\u001b[0m)          │               \u001b[38;5;34m0\u001b[0m │\n",
       "├──────────────────────────────────────┼─────────────────────────────┼─────────────────┤\n",
       "│ conv2d_2 (\u001b[38;5;33mConv2D\u001b[0m)                    │ (\u001b[38;5;45mNone\u001b[0m, \u001b[38;5;34m12\u001b[0m, \u001b[38;5;34m12\u001b[0m, \u001b[38;5;34m128\u001b[0m)         │         \u001b[38;5;34m131,200\u001b[0m │\n",
       "├──────────────────────────────────────┼─────────────────────────────┼─────────────────┤\n",
       "│ max_pooling2d_2 (\u001b[38;5;33mMaxPooling2D\u001b[0m)       │ (\u001b[38;5;45mNone\u001b[0m, \u001b[38;5;34m4\u001b[0m, \u001b[38;5;34m4\u001b[0m, \u001b[38;5;34m128\u001b[0m)           │               \u001b[38;5;34m0\u001b[0m │\n",
       "├──────────────────────────────────────┼─────────────────────────────┼─────────────────┤\n",
       "│ conv2d_3 (\u001b[38;5;33mConv2D\u001b[0m)                    │ (\u001b[38;5;45mNone\u001b[0m, \u001b[38;5;34m1\u001b[0m, \u001b[38;5;34m1\u001b[0m, \u001b[38;5;34m128\u001b[0m)           │         \u001b[38;5;34m262,272\u001b[0m │\n",
       "├──────────────────────────────────────┼─────────────────────────────┼─────────────────┤\n",
       "│ flatten (\u001b[38;5;33mFlatten\u001b[0m)                    │ (\u001b[38;5;45mNone\u001b[0m, \u001b[38;5;34m128\u001b[0m)                 │               \u001b[38;5;34m0\u001b[0m │\n",
       "├──────────────────────────────────────┼─────────────────────────────┼─────────────────┤\n",
       "│ dense (\u001b[38;5;33mDense\u001b[0m)                        │ (\u001b[38;5;45mNone\u001b[0m, \u001b[38;5;34m512\u001b[0m)                 │          \u001b[38;5;34m66,048\u001b[0m │\n",
       "├──────────────────────────────────────┼─────────────────────────────┼─────────────────┤\n",
       "│ dropout (\u001b[38;5;33mDropout\u001b[0m)                    │ (\u001b[38;5;45mNone\u001b[0m, \u001b[38;5;34m512\u001b[0m)                 │               \u001b[38;5;34m0\u001b[0m │\n",
       "├──────────────────────────────────────┼─────────────────────────────┼─────────────────┤\n",
       "│ dense_1 (\u001b[38;5;33mDense\u001b[0m)                      │ (\u001b[38;5;45mNone\u001b[0m, \u001b[38;5;34m4\u001b[0m)                   │           \u001b[38;5;34m2,052\u001b[0m │\n",
       "└──────────────────────────────────────┴─────────────────────────────┴─────────────────┘\n"
      ]
     },
     "metadata": {},
     "output_type": "display_data"
    },
    {
     "data": {
      "text/html": [
       "<pre style=\"white-space:pre;overflow-x:auto;line-height:normal;font-family:Menlo,'DejaVu Sans Mono',consolas,'Courier New',monospace\"><span style=\"font-weight: bold\"> Total params: </span><span style=\"color: #00af00; text-decoration-color: #00af00\">495,972</span> (1.89 MB)\n",
       "</pre>\n"
      ],
      "text/plain": [
       "\u001b[1m Total params: \u001b[0m\u001b[38;5;34m495,972\u001b[0m (1.89 MB)\n"
      ]
     },
     "metadata": {},
     "output_type": "display_data"
    },
    {
     "data": {
      "text/html": [
       "<pre style=\"white-space:pre;overflow-x:auto;line-height:normal;font-family:Menlo,'DejaVu Sans Mono',consolas,'Courier New',monospace\"><span style=\"font-weight: bold\"> Trainable params: </span><span style=\"color: #00af00; text-decoration-color: #00af00\">495,972</span> (1.89 MB)\n",
       "</pre>\n"
      ],
      "text/plain": [
       "\u001b[1m Trainable params: \u001b[0m\u001b[38;5;34m495,972\u001b[0m (1.89 MB)\n"
      ]
     },
     "metadata": {},
     "output_type": "display_data"
    },
    {
     "data": {
      "text/html": [
       "<pre style=\"white-space:pre;overflow-x:auto;line-height:normal;font-family:Menlo,'DejaVu Sans Mono',consolas,'Courier New',monospace\"><span style=\"font-weight: bold\"> Non-trainable params: </span><span style=\"color: #00af00; text-decoration-color: #00af00\">0</span> (0.00 B)\n",
       "</pre>\n"
      ],
      "text/plain": [
       "\u001b[1m Non-trainable params: \u001b[0m\u001b[38;5;34m0\u001b[0m (0.00 B)\n"
      ]
     },
     "metadata": {},
     "output_type": "display_data"
    }
   ],
   "source": [
    "from keras.optimizers import Adam  \n",
    "\n",
    "model = models.Sequential([\n",
    "    \n",
    "    Conv2D(32, (4, 4), activation=\"relu\", input_shape=image_shape),\n",
    "    MaxPooling2D(pool_size=(3, 3)),\n",
    "\n",
    "    Conv2D(64, (4, 4), activation=\"relu\"),\n",
    "    MaxPooling2D(pool_size=(3, 3)),\n",
    "\n",
    "    Conv2D(128, (4, 4), activation=\"relu\"),\n",
    "    MaxPooling2D(pool_size=(3, 3)),\n",
    "\n",
    "    Conv2D(128, (4, 4), activation=\"relu\"),\n",
    "    Flatten(),\n",
    "\n",
    "    Dense(512, activation=\"relu\"),\n",
    "    Dropout(0.5, seed=SEED),\n",
    "    Dense(N_TYPES, activation=\"softmax\")\n",
    "])\n",
    "\n",
    "model.summary()\n",
    "\n",
    "optimizer = Adam(learning_rate=0.001, beta_1=0.869, beta_2=0.995)\n",
    "model.compile(optimizer=optimizer, loss='categorical_crossentropy', metrics=['accuracy'])"
   ]
  },
  {
   "cell_type": "code",
   "execution_count": 14,
   "id": "e8c788b3-53a6-4b96-b8a0-de60388ceef4",
   "metadata": {},
   "outputs": [
    {
     "name": "stdout",
     "output_type": "stream",
     "text": [
      "Epoch 1/40\n"
     ]
    },
    {
     "name": "stderr",
     "output_type": "stream",
     "text": [
      "C:\\Users\\kusha\\anaconda3\\Lib\\site-packages\\keras\\src\\trainers\\data_adapters\\py_dataset_adapter.py:121: UserWarning: Your `PyDataset` class should call `super().__init__(**kwargs)` in its constructor. `**kwargs` can include `workers`, `use_multiprocessing`, `max_queue_size`. Do not pass these arguments to `fit()`, as they will be ignored.\n",
      "  self._warn_if_super_not_called()\n"
     ]
    },
    {
     "name": "stdout",
     "output_type": "stream",
     "text": [
      "\u001b[1m178/178\u001b[0m \u001b[32m━━━━━━━━━━━━━━━━━━━━\u001b[0m\u001b[37m\u001b[0m \u001b[1m164s\u001b[0m 880ms/step - accuracy: 0.3662 - loss: 1.2314 - val_accuracy: 0.7102 - val_loss: 0.7264 - learning_rate: 0.0010\n",
      "Epoch 2/40\n",
      "\u001b[1m  1/178\u001b[0m \u001b[37m━━━━━━━━━━━━━━━━━━━━\u001b[0m \u001b[1m37s\u001b[0m 210ms/step - accuracy: 0.6562 - loss: 0.8571"
     ]
    },
    {
     "name": "stderr",
     "output_type": "stream",
     "text": [
      "C:\\Users\\kusha\\anaconda3\\Lib\\contextlib.py:158: UserWarning: Your input ran out of data; interrupting training. Make sure that your dataset or generator can generate at least `steps_per_epoch * epochs` batches. You may need to use the `.repeat()` function when building your dataset.\n",
      "  self.gen.throw(typ, value, traceback)\n"
     ]
    },
    {
     "name": "stdout",
     "output_type": "stream",
     "text": [
      "\u001b[1m178/178\u001b[0m \u001b[32m━━━━━━━━━━━━━━━━━━━━\u001b[0m\u001b[37m\u001b[0m \u001b[1m1s\u001b[0m 2ms/step - accuracy: 0.6562 - loss: 0.8571 - val_accuracy: 0.7419 - val_loss: 0.5821 - learning_rate: 0.0010\n",
      "Epoch 3/40\n",
      "\u001b[1m178/178\u001b[0m \u001b[32m━━━━━━━━━━━━━━━━━━━━\u001b[0m\u001b[37m\u001b[0m \u001b[1m80s\u001b[0m 440ms/step - accuracy: 0.7149 - loss: 0.6954 - val_accuracy: 0.7688 - val_loss: 0.5970 - learning_rate: 0.0010\n",
      "Epoch 4/40\n",
      "\u001b[1m178/178\u001b[0m \u001b[32m━━━━━━━━━━━━━━━━━━━━\u001b[0m\u001b[37m\u001b[0m \u001b[1m0s\u001b[0m 904us/step - accuracy: 0.7812 - loss: 0.5619 - val_accuracy: 0.9677 - val_loss: 0.1045 - learning_rate: 0.0010\n",
      "Epoch 5/40\n",
      "\u001b[1m178/178\u001b[0m \u001b[32m━━━━━━━━━━━━━━━━━━━━\u001b[0m\u001b[37m\u001b[0m \u001b[1m82s\u001b[0m 448ms/step - accuracy: 0.8205 - loss: 0.4851 - val_accuracy: 0.8023 - val_loss: 0.6062 - learning_rate: 0.0010\n",
      "Epoch 6/40\n",
      "\u001b[1m178/178\u001b[0m \u001b[32m━━━━━━━━━━━━━━━━━━━━\u001b[0m\u001b[37m\u001b[0m \u001b[1m0s\u001b[0m 839us/step - accuracy: 0.9062 - loss: 0.3374 - val_accuracy: 1.0000 - val_loss: 0.1580 - learning_rate: 0.0010\n",
      "Epoch 7/40\n",
      "\u001b[1m178/178\u001b[0m \u001b[32m━━━━━━━━━━━━━━━━━━━━\u001b[0m\u001b[37m\u001b[0m \u001b[1m86s\u001b[0m 472ms/step - accuracy: 0.8792 - loss: 0.3276 - val_accuracy: 0.8695 - val_loss: 0.3677 - learning_rate: 0.0010\n",
      "Epoch 8/40\n",
      "\u001b[1m178/178\u001b[0m \u001b[32m━━━━━━━━━━━━━━━━━━━━\u001b[0m\u001b[37m\u001b[0m \u001b[1m0s\u001b[0m 795us/step - accuracy: 0.9062 - loss: 0.2616 - val_accuracy: 1.0000 - val_loss: 0.0842 - learning_rate: 0.0010\n",
      "Epoch 9/40\n",
      "\u001b[1m178/178\u001b[0m \u001b[32m━━━━━━━━━━━━━━━━━━━━\u001b[0m\u001b[37m\u001b[0m \u001b[1m90s\u001b[0m 493ms/step - accuracy: 0.8994 - loss: 0.2753 - val_accuracy: 0.8813 - val_loss: 0.3146 - learning_rate: 0.0010\n",
      "Epoch 10/40\n",
      "\u001b[1m178/178\u001b[0m \u001b[32m━━━━━━━━━━━━━━━━━━━━\u001b[0m\u001b[37m\u001b[0m \u001b[1m0s\u001b[0m 819us/step - accuracy: 0.9375 - loss: 0.1747 - val_accuracy: 1.0000 - val_loss: 0.0176 - learning_rate: 0.0010\n",
      "Epoch 11/40\n",
      "\u001b[1m178/178\u001b[0m \u001b[32m━━━━━━━━━━━━━━━━━━━━\u001b[0m\u001b[37m\u001b[0m \u001b[1m95s\u001b[0m 523ms/step - accuracy: 0.9091 - loss: 0.2470 - val_accuracy: 0.8844 - val_loss: 0.3070 - learning_rate: 0.0010\n",
      "Epoch 12/40\n",
      "\u001b[1m178/178\u001b[0m \u001b[32m━━━━━━━━━━━━━━━━━━━━\u001b[0m\u001b[37m\u001b[0m \u001b[1m0s\u001b[0m 1ms/step - accuracy: 0.8438 - loss: 0.5258 - val_accuracy: 1.0000 - val_loss: 0.1056 - learning_rate: 0.0010\n",
      "Epoch 13/40\n",
      "\u001b[1m178/178\u001b[0m \u001b[32m━━━━━━━━━━━━━━━━━━━━\u001b[0m\u001b[37m\u001b[0m \u001b[1m105s\u001b[0m 573ms/step - accuracy: 0.9296 - loss: 0.2022 - val_accuracy: 0.9062 - val_loss: 0.2460 - learning_rate: 0.0010\n",
      "Epoch 14/40\n",
      "\u001b[1m178/178\u001b[0m \u001b[32m━━━━━━━━━━━━━━━━━━━━\u001b[0m\u001b[37m\u001b[0m \u001b[1m0s\u001b[0m 1ms/step - accuracy: 0.9375 - loss: 0.2033 - val_accuracy: 0.9355 - val_loss: 0.0912 - learning_rate: 0.0010\n",
      "Epoch 15/40\n",
      "\u001b[1m178/178\u001b[0m \u001b[32m━━━━━━━━━━━━━━━━━━━━\u001b[0m\u001b[37m\u001b[0m \u001b[1m0s\u001b[0m 526ms/step - accuracy: 0.9535 - loss: 0.1502\n",
      "Epoch 15: ReduceLROnPlateau reducing learning rate to 0.0003000000142492354.\n",
      "\u001b[1m178/178\u001b[0m \u001b[32m━━━━━━━━━━━━━━━━━━━━\u001b[0m\u001b[37m\u001b[0m \u001b[1m103s\u001b[0m 560ms/step - accuracy: 0.9535 - loss: 0.1503 - val_accuracy: 0.9117 - val_loss: 0.2451 - learning_rate: 0.0010\n",
      "Epoch 16/40\n",
      "\u001b[1m178/178\u001b[0m \u001b[32m━━━━━━━━━━━━━━━━━━━━\u001b[0m\u001b[37m\u001b[0m \u001b[1m0s\u001b[0m 848us/step - accuracy: 0.9688 - loss: 0.1536 - val_accuracy: 1.0000 - val_loss: 0.0235 - learning_rate: 3.0000e-04\n",
      "Epoch 17/40\n",
      "\u001b[1m178/178\u001b[0m \u001b[32m━━━━━━━━━━━━━━━━━━━━\u001b[0m\u001b[37m\u001b[0m \u001b[1m92s\u001b[0m 504ms/step - accuracy: 0.9594 - loss: 0.1181 - val_accuracy: 0.9539 - val_loss: 0.1267 - learning_rate: 3.0000e-04\n",
      "Epoch 18/40\n",
      "\u001b[1m178/178\u001b[0m \u001b[32m━━━━━━━━━━━━━━━━━━━━\u001b[0m\u001b[37m\u001b[0m \u001b[1m0s\u001b[0m 709us/step - accuracy: 1.0000 - loss: 0.0315 - val_accuracy: 0.9677 - val_loss: 0.0702 - learning_rate: 3.0000e-04\n",
      "Epoch 19/40\n",
      "\u001b[1m178/178\u001b[0m \u001b[32m━━━━━━━━━━━━━━━━━━━━\u001b[0m\u001b[37m\u001b[0m \u001b[1m67s\u001b[0m 367ms/step - accuracy: 0.9681 - loss: 0.0947 - val_accuracy: 0.9563 - val_loss: 0.1223 - learning_rate: 3.0000e-04\n",
      "Epoch 20/40\n",
      "\u001b[1m  1/178\u001b[0m \u001b[37m━━━━━━━━━━━━━━━━━━━━\u001b[0m \u001b[1m30s\u001b[0m 171ms/step - accuracy: 0.9375 - loss: 0.0549\n",
      "Epoch 20: ReduceLROnPlateau reducing learning rate to 9.000000427477062e-05.\n",
      "\u001b[1m178/178\u001b[0m \u001b[32m━━━━━━━━━━━━━━━━━━━━\u001b[0m\u001b[37m\u001b[0m \u001b[1m0s\u001b[0m 618us/step - accuracy: 0.9375 - loss: 0.0549 - val_accuracy: 0.9677 - val_loss: 0.0740 - learning_rate: 3.0000e-04\n",
      "Epoch 21/40\n",
      "\u001b[1m178/178\u001b[0m \u001b[32m━━━━━━━━━━━━━━━━━━━━\u001b[0m\u001b[37m\u001b[0m \u001b[1m73s\u001b[0m 403ms/step - accuracy: 0.9745 - loss: 0.0678 - val_accuracy: 0.9688 - val_loss: 0.1029 - learning_rate: 9.0000e-05\n",
      "Epoch 22/40\n",
      "\u001b[1m178/178\u001b[0m \u001b[32m━━━━━━━━━━━━━━━━━━━━\u001b[0m\u001b[37m\u001b[0m \u001b[1m0s\u001b[0m 619us/step - accuracy: 1.0000 - loss: 0.0301 - val_accuracy: 0.9677 - val_loss: 0.0336 - learning_rate: 9.0000e-05\n",
      "Epoch 23/40\n",
      "\u001b[1m178/178\u001b[0m \u001b[32m━━━━━━━━━━━━━━━━━━━━\u001b[0m\u001b[37m\u001b[0m \u001b[1m75s\u001b[0m 412ms/step - accuracy: 0.9841 - loss: 0.0557 - val_accuracy: 0.9688 - val_loss: 0.1011 - learning_rate: 9.0000e-05\n",
      "Epoch 24/40\n",
      "\u001b[1m178/178\u001b[0m \u001b[32m━━━━━━━━━━━━━━━━━━━━\u001b[0m\u001b[37m\u001b[0m \u001b[1m0s\u001b[0m 620us/step - accuracy: 0.9375 - loss: 0.1316 - val_accuracy: 1.0000 - val_loss: 0.0274 - learning_rate: 9.0000e-05\n",
      "Epoch 25/40\n",
      "\u001b[1m178/178\u001b[0m \u001b[32m━━━━━━━━━━━━━━━━━━━━\u001b[0m\u001b[37m\u001b[0m \u001b[1m0s\u001b[0m 319ms/step - accuracy: 0.9809 - loss: 0.0600\n",
      "Epoch 25: ReduceLROnPlateau reducing learning rate to 2.700000040931627e-05.\n",
      "\u001b[1m178/178\u001b[0m \u001b[32m━━━━━━━━━━━━━━━━━━━━\u001b[0m\u001b[37m\u001b[0m \u001b[1m62s\u001b[0m 341ms/step - accuracy: 0.9809 - loss: 0.0600 - val_accuracy: 0.9719 - val_loss: 0.0961 - learning_rate: 9.0000e-05\n",
      "Epoch 26/40\n",
      "\u001b[1m178/178\u001b[0m \u001b[32m━━━━━━━━━━━━━━━━━━━━\u001b[0m\u001b[37m\u001b[0m \u001b[1m0s\u001b[0m 531us/step - accuracy: 1.0000 - loss: 0.0497 - val_accuracy: 1.0000 - val_loss: 0.0161 - learning_rate: 2.7000e-05\n",
      "Epoch 27/40\n",
      "\u001b[1m178/178\u001b[0m \u001b[32m━━━━━━━━━━━━━━━━━━━━\u001b[0m\u001b[37m\u001b[0m \u001b[1m63s\u001b[0m 348ms/step - accuracy: 0.9836 - loss: 0.0531 - val_accuracy: 0.9680 - val_loss: 0.0999 - learning_rate: 2.7000e-05\n",
      "Epoch 28/40\n",
      "\u001b[1m178/178\u001b[0m \u001b[32m━━━━━━━━━━━━━━━━━━━━\u001b[0m\u001b[37m\u001b[0m \u001b[1m0s\u001b[0m 624us/step - accuracy: 1.0000 - loss: 0.0107 - val_accuracy: 1.0000 - val_loss: 0.0293 - learning_rate: 2.7000e-05\n",
      "Epoch 29/40\n",
      "\u001b[1m178/178\u001b[0m \u001b[32m━━━━━━━━━━━━━━━━━━━━\u001b[0m\u001b[37m\u001b[0m \u001b[1m63s\u001b[0m 345ms/step - accuracy: 0.9845 - loss: 0.0486 - val_accuracy: 0.9672 - val_loss: 0.1019 - learning_rate: 2.7000e-05\n",
      "Epoch 30/40\n",
      "\u001b[1m178/178\u001b[0m \u001b[32m━━━━━━━━━━━━━━━━━━━━\u001b[0m\u001b[37m\u001b[0m \u001b[1m0s\u001b[0m 798us/step - accuracy: 0.9688 - loss: 0.0647 - val_accuracy: 0.9677 - val_loss: 0.0528 - learning_rate: 2.7000e-05\n",
      "Epoch 31/40\n",
      "\u001b[1m178/178\u001b[0m \u001b[32m━━━━━━━━━━━━━━━━━━━━\u001b[0m\u001b[37m\u001b[0m \u001b[1m0s\u001b[0m 361ms/step - accuracy: 0.9863 - loss: 0.0399\n",
      "Epoch 31: ReduceLROnPlateau reducing learning rate to 8.100000013655517e-06.\n",
      "\u001b[1m178/178\u001b[0m \u001b[32m━━━━━━━━━━━━━━━━━━━━\u001b[0m\u001b[37m\u001b[0m \u001b[1m70s\u001b[0m 387ms/step - accuracy: 0.9863 - loss: 0.0399 - val_accuracy: 0.9711 - val_loss: 0.0927 - learning_rate: 2.7000e-05\n",
      "Epoch 32/40\n",
      "\u001b[1m178/178\u001b[0m \u001b[32m━━━━━━━━━━━━━━━━━━━━\u001b[0m\u001b[37m\u001b[0m \u001b[1m0s\u001b[0m 630us/step - accuracy: 0.9688 - loss: 0.0385 - val_accuracy: 0.9677 - val_loss: 0.0477 - learning_rate: 8.1000e-06\n",
      "Epoch 33/40\n",
      "\u001b[1m178/178\u001b[0m \u001b[32m━━━━━━━━━━━━━━━━━━━━\u001b[0m\u001b[37m\u001b[0m \u001b[1m81s\u001b[0m 446ms/step - accuracy: 0.9853 - loss: 0.0432 - val_accuracy: 0.9703 - val_loss: 0.0956 - learning_rate: 8.1000e-06\n",
      "Epoch 34/40\n",
      "\u001b[1m178/178\u001b[0m \u001b[32m━━━━━━━━━━━━━━━━━━━━\u001b[0m\u001b[37m\u001b[0m \u001b[1m0s\u001b[0m 616us/step - accuracy: 1.0000 - loss: 0.0124 - val_accuracy: 0.9677 - val_loss: 0.0462 - learning_rate: 8.1000e-06\n",
      "Epoch 35/40\n",
      "\u001b[1m178/178\u001b[0m \u001b[32m━━━━━━━━━━━━━━━━━━━━\u001b[0m\u001b[37m\u001b[0m \u001b[1m74s\u001b[0m 407ms/step - accuracy: 0.9856 - loss: 0.0421 - val_accuracy: 0.9734 - val_loss: 0.0884 - learning_rate: 8.1000e-06\n",
      "Epoch 36/40\n",
      "\u001b[1m  1/178\u001b[0m \u001b[37m━━━━━━━━━━━━━━━━━━━━\u001b[0m \u001b[1m45s\u001b[0m 258ms/step - accuracy: 1.0000 - loss: 0.0268\n",
      "Epoch 36: ReduceLROnPlateau reducing learning rate to 2.429999949526973e-06.\n",
      "\u001b[1m178/178\u001b[0m \u001b[32m━━━━━━━━━━━━━━━━━━━━\u001b[0m\u001b[37m\u001b[0m \u001b[1m0s\u001b[0m 949us/step - accuracy: 1.0000 - loss: 0.0268 - val_accuracy: 0.9677 - val_loss: 0.0454 - learning_rate: 8.1000e-06\n",
      "Epoch 36: early stopping\n"
     ]
    }
   ],
   "source": [
    "model_es = EarlyStopping(monitor='loss', min_delta=1e-9, patience=8, verbose=True)\n",
    "model_rlr = ReduceLROnPlateau(monitor='val_loss', factor=0.3, patience=5, verbose=True)\n",
    "\n",
    "history = model.fit(train_generator,\n",
    "                    steps_per_epoch=steps_per_epoch,\n",
    "                    epochs=epochs,\n",
    "                    validation_data=test_generator,\n",
    "                    validation_steps=validation_steps,\n",
    "                    callbacks=[model_es, model_rlr])"
   ]
  },
  {
   "cell_type": "code",
   "execution_count": 17,
   "id": "77f800fa-b518-4a1c-9a96-0b249693e095",
   "metadata": {},
   "outputs": [
    {
     "name": "stdout",
     "output_type": "stream",
     "text": [
      "\u001b[1m178/178\u001b[0m \u001b[32m━━━━━━━━━━━━━━━━━━━━\u001b[0m\u001b[37m\u001b[0m \u001b[1m41s\u001b[0m 230ms/step - accuracy: 0.9875 - loss: 0.0401\n",
      "Loss: 0.04375\n",
      "Accuracy: 0.98631\n"
     ]
    }
   ],
   "source": [
    "loss, accuracy = model.evaluate(test_generator)\n",
    "print(f\"Loss: {loss:0.5f}\")\n",
    "print(f\"Accuracy: {accuracy:0.5f}\")"
   ]
  },
  {
   "cell_type": "code",
   "execution_count": 22,
   "id": "06be03e6-d299-408e-b030-0e6cf9770aac",
   "metadata": {},
   "outputs": [],
   "source": [
    "model.save('best_acc.keras')"
   ]
  },
  {
   "cell_type": "code",
   "execution_count": null,
   "id": "9247cb52-db25-40fe-9838-3ea25181feae",
   "metadata": {},
   "outputs": [],
   "source": []
  }
 ],
 "metadata": {
  "kernelspec": {
   "display_name": "Python 3 (ipykernel)",
   "language": "python",
   "name": "python3"
  },
  "language_info": {
   "codemirror_mode": {
    "name": "ipython",
    "version": 3
   },
   "file_extension": ".py",
   "mimetype": "text/x-python",
   "name": "python",
   "nbconvert_exporter": "python",
   "pygments_lexer": "ipython3",
   "version": "3.11.7"
  }
 },
 "nbformat": 4,
 "nbformat_minor": 5
}
